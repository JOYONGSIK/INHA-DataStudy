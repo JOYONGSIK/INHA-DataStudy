{
 "cells": [
  {
   "cell_type": "markdown",
   "metadata": {},
   "source": [
    "# NumPy 기본, 배열과 벡터 연산"
   ]
  },
  {
   "cell_type": "markdown",
   "metadata": {},
   "source": [
    "- ndarray 생성하기"
   ]
  },
  {
   "cell_type": "code",
   "execution_count": 1,
   "metadata": {},
   "outputs": [],
   "source": [
    "import numpy as np"
   ]
  },
  {
   "cell_type": "code",
   "execution_count": 2,
   "metadata": {},
   "outputs": [
    {
     "data": {
      "text/plain": [
       "array([1, 2, 3, 4])"
      ]
     },
     "execution_count": 2,
     "metadata": {},
     "output_type": "execute_result"
    }
   ],
   "source": [
    "# 배열을 생성하는 가장 쉬운 방법은 array 함수이다.\n",
    "\n",
    "data1 = [1, 2, 3, 4, ]\n",
    "\n",
    "arr1 = np.array(data1)\n",
    "arr1"
   ]
  },
  {
   "cell_type": "code",
   "execution_count": 3,
   "metadata": {},
   "outputs": [
    {
     "data": {
      "text/plain": [
       "array([[1, 2, 3],\n",
       "       [2, 3, 4]])"
      ]
     },
     "execution_count": 3,
     "metadata": {},
     "output_type": "execute_result"
    }
   ],
   "source": [
    "# 다차원 배열로도 가능하다.\n",
    "\n",
    "data2 = [[1, 2, 3,], [2, 3, 4, ]]\n",
    "\n",
    "arr2 = np.array(data2)\n",
    "arr2"
   ]
  },
  {
   "cell_type": "code",
   "execution_count": 7,
   "metadata": {},
   "outputs": [
    {
     "name": "stdout",
     "output_type": "stream",
     "text": [
      "차원 2\n",
      "크기 (2, 3)\n",
      "자료형 int32\n"
     ]
    }
   ],
   "source": [
    "print('차원' , arr2.ndim)\n",
    "print('크기', arr2.shape)\n",
    "print('자료형', arr2.dtype)"
   ]
  },
  {
   "cell_type": "code",
   "execution_count": 14,
   "metadata": {},
   "outputs": [
    {
     "name": "stdout",
     "output_type": "stream",
     "text": [
      "[[0. 0. 0. 0.]\n",
      " [0. 0. 0. 0.]]\n",
      "\n",
      "개수까지 추가하기.\n",
      "\n",
      "[[[1. 1.]\n",
      "  [1. 1.]\n",
      "  [1. 1.]\n",
      "  [1. 1.]]\n",
      "\n",
      " [[1. 1.]\n",
      "  [1. 1.]\n",
      "  [1. 1.]\n",
      "  [1. 1.]]\n",
      "\n",
      " [[1. 1.]\n",
      "  [1. 1.]\n",
      "  [1. 1.]\n",
      "  [1. 1.]]]\n"
     ]
    }
   ],
   "source": [
    "# np에는 zeros, ones가 있음 (twos는 없음)\n",
    "print(np.zeros((2, 4)))\n",
    "\n",
    "print('\\n개수까지 추가하기.\\n')\n",
    "\n",
    "print(np.ones((3, 4, 2)))"
   ]
  },
  {
   "cell_type": "markdown",
   "metadata": {},
   "source": [
    "#### 배열 생성 함수"
   ]
  },
  {
   "cell_type": "code",
   "execution_count": 15,
   "metadata": {},
   "outputs": [
    {
     "data": {
      "text/plain": [
       "array([ 3,  5,  7,  9, 11, 13])"
      ]
     },
     "execution_count": 15,
     "metadata": {},
     "output_type": "execute_result"
    }
   ],
   "source": [
    "np.arange(3, 15, 2)"
   ]
  },
  {
   "cell_type": "code",
   "execution_count": 17,
   "metadata": {},
   "outputs": [
    {
     "data": {
      "text/plain": [
       "array([[0., 0., 0., 0., 0.],\n",
       "       [0., 0., 0., 0., 0.],\n",
       "       [0., 0., 0., 0., 0.]])"
      ]
     },
     "execution_count": 17,
     "metadata": {},
     "output_type": "execute_result"
    }
   ],
   "source": [
    "np.empty((3, 5)) # ones, zeros 처럼 값을 초기화하지는 않음"
   ]
  },
  {
   "cell_type": "code",
   "execution_count": 18,
   "metadata": {},
   "outputs": [
    {
     "data": {
      "text/plain": [
       "array([[3, 3, 3, 3],\n",
       "       [3, 3, 3, 3]])"
      ]
     },
     "execution_count": 18,
     "metadata": {},
     "output_type": "execute_result"
    }
   ],
   "source": [
    "np.full((2, 4), 3) # 인자로 받은 dtpye 자료형으로 배열을 채운다."
   ]
  },
  {
   "cell_type": "code",
   "execution_count": 20,
   "metadata": {},
   "outputs": [
    {
     "data": {
      "text/plain": [
       "array([[1., 0., 0., 0., 0.],\n",
       "       [0., 1., 0., 0., 0.],\n",
       "       [0., 0., 1., 0., 0.]])"
      ]
     },
     "execution_count": 20,
     "metadata": {},
     "output_type": "execute_result"
    }
   ],
   "source": [
    "np.eye(3, 5) # 단위 행렬, identity와 같다."
   ]
  },
  {
   "cell_type": "markdown",
   "metadata": {},
   "source": [
    "#### dtype을 사용해서 자료형 변환"
   ]
  },
  {
   "cell_type": "code",
   "execution_count": 25,
   "metadata": {},
   "outputs": [
    {
     "data": {
      "text/plain": [
       "dtype('int32')"
      ]
     },
     "execution_count": 25,
     "metadata": {},
     "output_type": "execute_result"
    }
   ],
   "source": [
    "arr3 = np.array([1, 2, 3, 4])\n",
    "arr3.dtype"
   ]
  },
  {
   "cell_type": "code",
   "execution_count": 23,
   "metadata": {},
   "outputs": [
    {
     "data": {
      "text/plain": [
       "array([1., 2., 3., 4.])"
      ]
     },
     "execution_count": 23,
     "metadata": {},
     "output_type": "execute_result"
    }
   ],
   "source": [
    "arr3 = arr3.astype(np.float64)\n",
    "arr3 # 부동소수점으로 변환"
   ]
  },
  {
   "cell_type": "code",
   "execution_count": 27,
   "metadata": {},
   "outputs": [
    {
     "data": {
      "text/plain": [
       "array([b'1', b'2', b'3', b'4'], dtype='|S11')"
      ]
     },
     "execution_count": 27,
     "metadata": {},
     "output_type": "execute_result"
    }
   ],
   "source": [
    "arr3 = arr3.astype(np.string_)\n",
    "arr3 # 굳이 numpy에서 문자형을?"
   ]
  },
  {
   "cell_type": "markdown",
   "metadata": {},
   "source": [
    "- Numpy 배열의 산술연산\n",
    "> 자유롭다, 리스트랑 다르고 연산속도가 더 빠름"
   ]
  },
  {
   "cell_type": "code",
   "execution_count": 32,
   "metadata": {},
   "outputs": [
    {
     "data": {
      "text/plain": [
       "array([[2, 4, 6],\n",
       "       [4, 6, 8]])"
      ]
     },
     "execution_count": 32,
     "metadata": {},
     "output_type": "execute_result"
    }
   ],
   "source": [
    "arr1 = np.array([[1, 2, 3], [2, 3, 4]])\n",
    "\n",
    "arr1 * 2"
   ]
  },
  {
   "cell_type": "code",
   "execution_count": 34,
   "metadata": {},
   "outputs": [
    {
     "data": {
      "text/plain": [
       "array([[ 4,  8, 12],\n",
       "       [ 8, 12, 16]])"
      ]
     },
     "execution_count": 34,
     "metadata": {},
     "output_type": "execute_result"
    }
   ],
   "source": [
    "arr1 + arr1 * 3 "
   ]
  },
  {
   "cell_type": "markdown",
   "metadata": {},
   "source": [
    "- 색인과 슬라이딩 기초"
   ]
  },
  {
   "cell_type": "code",
   "execution_count": 35,
   "metadata": {},
   "outputs": [
    {
     "data": {
      "text/plain": [
       "array([7, 8, 9])"
      ]
     },
     "execution_count": 35,
     "metadata": {},
     "output_type": "execute_result"
    }
   ],
   "source": [
    "arr2d = np.array([[1, 2, 3], [4, 5, 6], [7, 8, 9]])\n",
    "arr2d[2]"
   ]
  },
  {
   "cell_type": "code",
   "execution_count": 37,
   "metadata": {},
   "outputs": [
    {
     "name": "stdout",
     "output_type": "stream",
     "text": [
      "3\n",
      "3\n"
     ]
    }
   ],
   "source": [
    "print(arr2d[0, 2])\n",
    "print(arr2d[0][2]) # 두개 같은 것임 "
   ]
  },
  {
   "cell_type": "code",
   "execution_count": 38,
   "metadata": {},
   "outputs": [
    {
     "data": {
      "text/plain": [
       "array([[4, 5],\n",
       "       [7, 8]])"
      ]
     },
     "execution_count": 38,
     "metadata": {},
     "output_type": "execute_result"
    }
   ],
   "source": [
    "arr2d[1:, :2] # 이렇게 만들어낼 수 있음"
   ]
  },
  {
   "cell_type": "markdown",
   "metadata": {},
   "source": [
    "- 불리언값으로 선택하기"
   ]
  },
  {
   "cell_type": "code",
   "execution_count": 47,
   "metadata": {},
   "outputs": [
    {
     "data": {
      "text/plain": [
       "array([[-0.10780092, -0.5482084 ,  3.28226625],\n",
       "       [ 0.64673696,  0.32397226,  0.64047841],\n",
       "       [ 0.13245273,  0.15446191, -1.00780401],\n",
       "       [-0.96950293,  0.22773775, -1.21897378],\n",
       "       [ 0.95364594,  0.05535693, -0.77070496],\n",
       "       [ 1.78952841, -0.52363696, -0.66584421]])"
      ]
     },
     "execution_count": 47,
     "metadata": {},
     "output_type": "execute_result"
    }
   ],
   "source": [
    "names = np.array(['a', 'b', 'c', 'd', 'd', 'f'])\n",
    "\n",
    "data = np.random.randn(6, 3)\n",
    "data"
   ]
  },
  {
   "cell_type": "code",
   "execution_count": 61,
   "metadata": {},
   "outputs": [
    {
     "name": "stdout",
     "output_type": "stream",
     "text": [
      "[[ 0.13245273  0.15446191 -1.00780401]] \n",
      "\n",
      "[[-0.10780092 -0.5482084   3.28226625]\n",
      " [ 0.64673696  0.32397226  0.64047841]\n",
      " [-0.96950293  0.22773775 -1.21897378]\n",
      " [ 0.95364594  0.05535693 -0.77070496]\n",
      " [ 1.78952841 -0.52363696 -0.66584421]]\n"
     ]
    }
   ],
   "source": [
    "bools = names =='c'\n",
    "print(data[bools], '\\n') # 조건을 안에 넣어서 색인으로도 사용할 수 있다.\n",
    "\n",
    "# 앞에 ~를 붙히면 반대의 조건이 나온다.\n",
    "print(data[~bools])"
   ]
  },
  {
   "cell_type": "code",
   "execution_count": 54,
   "metadata": {},
   "outputs": [
    {
     "data": {
      "text/plain": [
       "array([0.15446191])"
      ]
     },
     "execution_count": 54,
     "metadata": {},
     "output_type": "execute_result"
    }
   ],
   "source": [
    "names =='c'\n",
    "data[names == 'c', 1] # 안에 인덱스도 넣어줄 수 있다."
   ]
  },
  {
   "cell_type": "markdown",
   "metadata": {},
   "source": [
    "- np에서는 &, | 만 사용 가능\n",
    " - pandas에서도 똑같음"
   ]
  },
  {
   "cell_type": "code",
   "execution_count": 63,
   "metadata": {},
   "outputs": [
    {
     "data": {
      "text/plain": [
       "array([[-0.10780092, -0.5482084 ,  3.28226625],\n",
       "       [ 0.64673696,  0.32397226,  0.64047841],\n",
       "       [ 0.13245273,  0.15446191, -1.00780401],\n",
       "       [-0.96950293,  0.22773775, -1.21897378],\n",
       "       [ 0.95364594,  0.05535693, -0.77070496],\n",
       "       [ 1.78952841, -0.52363696, -0.66584421]])"
      ]
     },
     "execution_count": 63,
     "metadata": {},
     "output_type": "execute_result"
    }
   ],
   "source": [
    "# 값을 바꿔보기\n",
    "\n",
    "data # 여기에서 -의 값은 0으로 다 바꿔줄 것이다."
   ]
  },
  {
   "cell_type": "code",
   "execution_count": 65,
   "metadata": {},
   "outputs": [
    {
     "data": {
      "text/plain": [
       "array([[0.        , 0.        , 3.28226625],\n",
       "       [0.64673696, 0.32397226, 0.64047841],\n",
       "       [0.13245273, 0.15446191, 0.        ],\n",
       "       [0.        , 0.22773775, 0.        ],\n",
       "       [0.95364594, 0.05535693, 0.        ],\n",
       "       [1.78952841, 0.        , 0.        ]])"
      ]
     },
     "execution_count": 65,
     "metadata": {},
     "output_type": "execute_result"
    }
   ],
   "source": [
    "data[data < 0] = 0\n",
    "data"
   ]
  },
  {
   "cell_type": "code",
   "execution_count": 67,
   "metadata": {},
   "outputs": [
    {
     "data": {
      "text/plain": [
       "array([[ 0,  1,  2,  3],\n",
       "       [ 4,  5,  6,  7],\n",
       "       [ 8,  9, 10, 11],\n",
       "       [12, 13, 14, 15],\n",
       "       [16, 17, 18, 19],\n",
       "       [20, 21, 22, 23],\n",
       "       [24, 25, 26, 27],\n",
       "       [28, 29, 30, 31]])"
      ]
     },
     "execution_count": 67,
     "metadata": {},
     "output_type": "execute_result"
    }
   ],
   "source": [
    "arr = np.arange(32).reshape((8, 4))\n",
    "arr # 이렇게 만들어줄 수 있음."
   ]
  },
  {
   "cell_type": "code",
   "execution_count": 68,
   "metadata": {},
   "outputs": [
    {
     "data": {
      "text/plain": [
       "array([ 4, 23, 29])"
      ]
     },
     "execution_count": 68,
     "metadata": {},
     "output_type": "execute_result"
    }
   ],
   "source": [
    "arr[[1, 5, 7], [0, 3, 1]]"
   ]
  },
  {
   "cell_type": "markdown",
   "metadata": {},
   "source": [
    "- 전치와 축 바꾸기"
   ]
  },
  {
   "cell_type": "code",
   "execution_count": 69,
   "metadata": {},
   "outputs": [
    {
     "data": {
      "text/plain": [
       "array([[ 0,  1,  2,  3,  4,  5,  6,  7],\n",
       "       [ 8,  9, 10, 11, 12, 13, 14, 15],\n",
       "       [16, 17, 18, 19, 20, 21, 22, 23],\n",
       "       [24, 25, 26, 27, 28, 29, 30, 31]])"
      ]
     },
     "execution_count": 69,
     "metadata": {},
     "output_type": "execute_result"
    }
   ],
   "source": [
    "arr.reshape((4, 8))"
   ]
  },
  {
   "cell_type": "code",
   "execution_count": 70,
   "metadata": {},
   "outputs": [
    {
     "data": {
      "text/plain": [
       "array([[ 0,  4,  8, 12, 16, 20, 24, 28],\n",
       "       [ 1,  5,  9, 13, 17, 21, 25, 29],\n",
       "       [ 2,  6, 10, 14, 18, 22, 26, 30],\n",
       "       [ 3,  7, 11, 15, 19, 23, 27, 31]])"
      ]
     },
     "execution_count": 70,
     "metadata": {},
     "output_type": "execute_result"
    }
   ],
   "source": [
    "arr.T"
   ]
  },
  {
   "cell_type": "markdown",
   "metadata": {},
   "source": [
    "#### 행렬의 내적 / np.dot"
   ]
  },
  {
   "cell_type": "code",
   "execution_count": 71,
   "metadata": {},
   "outputs": [
    {
     "data": {
      "text/plain": [
       "array([[ 0.4367148 ,  0.06084508, -1.00667918],\n",
       "       [ 0.30760226,  0.58832087, -0.66931542],\n",
       "       [-0.37238713, -1.2041717 ,  1.18963561],\n",
       "       [-0.63554155,  0.2979499 , -1.28551202],\n",
       "       [-1.82209728, -0.31391448,  1.6729306 ],\n",
       "       [-0.0084206 ,  2.16092127,  2.60143209]])"
      ]
     },
     "execution_count": 71,
     "metadata": {},
     "output_type": "execute_result"
    }
   ],
   "source": [
    "arr = np.random.randn(6, 3)\n",
    "arr"
   ]
  },
  {
   "cell_type": "code",
   "execution_count": 74,
   "metadata": {},
   "outputs": [
    {
     "data": {
      "text/plain": [
       "array([[ 4.14803359,  1.02038574, -3.34167122],\n",
       "       [ 1.02038574,  6.65675022,  2.82576539],\n",
       "       [-3.34167122,  2.82576539, 14.09530585]])"
      ]
     },
     "execution_count": 74,
     "metadata": {},
     "output_type": "execute_result"
    }
   ],
   "source": [
    "np.dot(arr.T, arr) # 이렇게하면 내적을 구할 수 있다."
   ]
  },
  {
   "cell_type": "code",
   "execution_count": 79,
   "metadata": {},
   "outputs": [
    {
     "data": {
      "text/plain": [
       "array([[[ 0,  1,  2,  3],\n",
       "        [ 4,  5,  6,  7]],\n",
       "\n",
       "       [[ 8,  9, 10, 11],\n",
       "        [12, 13, 14, 15]]])"
      ]
     },
     "execution_count": 79,
     "metadata": {},
     "output_type": "execute_result"
    }
   ],
   "source": [
    "arr = np.arange(16).reshape((2, 2, 4))\n",
    "arr"
   ]
  },
  {
   "cell_type": "markdown",
   "metadata": {},
   "source": [
    "#### ndarray의 swapaxes 메소드. p157"
   ]
  },
  {
   "cell_type": "markdown",
   "metadata": {},
   "source": [
    "### 유니버설 함수: 배열의 각 원소를 빠르게 처리"
   ]
  },
  {
   "cell_type": "code",
   "execution_count": 83,
   "metadata": {},
   "outputs": [
    {
     "name": "stdout",
     "output_type": "stream",
     "text": [
      "[0.         1.         1.41421356 1.73205081 2.         2.23606798\n",
      " 2.44948974 2.64575131 2.82842712 3.        ]\n",
      "[1.00000000e+00 2.71828183e+00 7.38905610e+00 2.00855369e+01\n",
      " 5.45981500e+01 1.48413159e+02 4.03428793e+02 1.09663316e+03\n",
      " 2.98095799e+03 8.10308393e+03]\n"
     ]
    }
   ],
   "source": [
    "arr = np.arange(10)\n",
    "\n",
    "# 단항 유니버설 함수\n",
    "print(np.sqrt(arr)) # sqrt\n",
    "print(np.exp(arr)) # exp"
   ]
  },
  {
   "cell_type": "code",
   "execution_count": 84,
   "metadata": {},
   "outputs": [
    {
     "data": {
      "text/plain": [
       "array([ 0.02625176,  0.24025303, -0.25491375,  0.73083405,  1.00981862,\n",
       "       -0.16585926,  0.47451238,  0.05146573])"
      ]
     },
     "execution_count": 84,
     "metadata": {},
     "output_type": "execute_result"
    }
   ],
   "source": [
    "x = np.random.randn(8)\n",
    "y = np.random.randn(8)\n",
    "\n",
    "np.maximum(x, y)"
   ]
  },
  {
   "cell_type": "code",
   "execution_count": 85,
   "metadata": {},
   "outputs": [
    {
     "data": {
      "text/plain": [
       "array([ 9.43522672, -2.43813953,  0.63567708,  4.00127927])"
      ]
     },
     "execution_count": 85,
     "metadata": {},
     "output_type": "execute_result"
    }
   ],
   "source": [
    "arr = np.random.randn(4) * 5\n",
    "arr"
   ]
  },
  {
   "cell_type": "code",
   "execution_count": 87,
   "metadata": {},
   "outputs": [
    {
     "name": "stdout",
     "output_type": "stream",
     "text": [
      "[ 0.43522672 -0.43813953  0.63567708  0.00127927] 나머지\n",
      "[ 9. -2.  0.  4.] 몫\n"
     ]
    }
   ],
   "source": [
    "remainder, whole_part = np.modf(arr)\n",
    "print(remainder, '나머지')\n",
    "print(whole_part, '몫')"
   ]
  },
  {
   "cell_type": "code",
   "execution_count": 91,
   "metadata": {},
   "outputs": [
    {
     "data": {
      "text/plain": [
       "array([0.43522672, 0.43813953, 0.63567708, 0.00127927])"
      ]
     },
     "execution_count": 91,
     "metadata": {},
     "output_type": "execute_result"
    }
   ],
   "source": [
    "abs(remainder)\n",
    "np.fabs(remainder) # 복소수가 아닌 경우, 빠른 연산을 위해서 fabs를 사용한다."
   ]
  },
  {
   "cell_type": "markdown",
   "metadata": {},
   "source": [
    "- sqrt / square\n",
    "- sign : 부호 계산"
   ]
  },
  {
   "cell_type": "markdown",
   "metadata": {},
   "source": [
    "### 배열 연산으로 조건절 표현"
   ]
  },
  {
   "cell_type": "code",
   "execution_count": 93,
   "metadata": {},
   "outputs": [
    {
     "data": {
      "text/plain": [
       "array([ 1, 20,  3,  4, 50])"
      ]
     },
     "execution_count": 93,
     "metadata": {},
     "output_type": "execute_result"
    }
   ],
   "source": [
    "xarr = np.array([1, 2, 3, 4, 5])\n",
    "yarr = np.array([10, 20, 30, 40, 50])\n",
    "\n",
    "cond = np.array([True, False, True, True, False])\n",
    "\n",
    "np.where(cond, xarr, yarr) # 이런식으로도 가능하다."
   ]
  },
  {
   "cell_type": "code",
   "execution_count": 95,
   "metadata": {},
   "outputs": [
    {
     "data": {
      "text/plain": [
       "array([[ 0.17541878, -0.39784985,  0.84986709, -0.41474432],\n",
       "       [-0.43516733, -0.48726793,  0.52205562, -1.00349713],\n",
       "       [ 0.97272851, -0.62603594,  0.50198625, -0.6571005 ],\n",
       "       [ 0.09909045, -0.86507685, -0.75078852, -0.63534716]])"
      ]
     },
     "execution_count": 95,
     "metadata": {},
     "output_type": "execute_result"
    }
   ],
   "source": [
    "arr = np.random.randn(4, 4)\n",
    "arr"
   ]
  },
  {
   "cell_type": "code",
   "execution_count": 96,
   "metadata": {},
   "outputs": [
    {
     "data": {
      "text/plain": [
       "array([[ 2.        , -0.39784985,  2.        , -0.41474432],\n",
       "       [-0.43516733, -0.48726793,  2.        , -1.00349713],\n",
       "       [ 2.        , -0.62603594,  2.        , -0.6571005 ],\n",
       "       [ 2.        , -0.86507685, -0.75078852, -0.63534716]])"
      ]
     },
     "execution_count": 96,
     "metadata": {},
     "output_type": "execute_result"
    }
   ],
   "source": [
    "np.where(arr>0 , 2, arr) #이런식으로 조건을 줄 수 있다."
   ]
  },
  {
   "cell_type": "markdown",
   "metadata": {},
   "source": [
    "### 수학, 통계 메소드"
   ]
  },
  {
   "cell_type": "code",
   "execution_count": 97,
   "metadata": {},
   "outputs": [
    {
     "data": {
      "text/plain": [
       "array([[-0.97227662,  1.07531079, -0.0701404 ],\n",
       "       [-0.02124939,  0.93091779,  1.04213375]])"
      ]
     },
     "execution_count": 97,
     "metadata": {},
     "output_type": "execute_result"
    }
   ],
   "source": [
    "# sum, mean, std가 있긴한데.. pandas.describes() 쓰면 다 나옴..\n",
    "\n",
    "arr = np.random.randn(2, 3)\n",
    "arr"
   ]
  },
  {
   "cell_type": "code",
   "execution_count": 98,
   "metadata": {},
   "outputs": [
    {
     "data": {
      "text/plain": [
       "0.33078265273283525"
      ]
     },
     "execution_count": 98,
     "metadata": {},
     "output_type": "execute_result"
    }
   ],
   "source": [
    "arr.mean()"
   ]
  },
  {
   "cell_type": "code",
   "execution_count": 99,
   "metadata": {},
   "outputs": [
    {
     "data": {
      "text/plain": [
       "0.7531195164457853"
      ]
     },
     "execution_count": 99,
     "metadata": {},
     "output_type": "execute_result"
    }
   ],
   "source": [
    "arr.std()"
   ]
  },
  {
   "cell_type": "code",
   "execution_count": 100,
   "metadata": {},
   "outputs": [
    {
     "data": {
      "text/plain": [
       "1.9846959163970115"
      ]
     },
     "execution_count": 100,
     "metadata": {},
     "output_type": "execute_result"
    }
   ],
   "source": [
    "arr.sum()"
   ]
  },
  {
   "cell_type": "code",
   "execution_count": 103,
   "metadata": {},
   "outputs": [
    {
     "data": {
      "text/plain": [
       "array([-0.49676301,  1.00311429,  0.48599668])"
      ]
     },
     "execution_count": 103,
     "metadata": {},
     "output_type": "execute_result"
    }
   ],
   "source": [
    "arr.mean(axis=0) # axis 가 0 인경우 col, 1 인 경우 index "
   ]
  },
  {
   "cell_type": "markdown",
   "metadata": {},
   "source": [
    "### 불리언 배열을 위한 메소드"
   ]
  },
  {
   "cell_type": "code",
   "execution_count": 104,
   "metadata": {},
   "outputs": [
    {
     "data": {
      "text/plain": [
       "54"
      ]
     },
     "execution_count": 104,
     "metadata": {},
     "output_type": "execute_result"
    }
   ],
   "source": [
    "arr = np.random.randn(100)\n",
    "(arr > 0 ).sum() # 양수인 원소의 개수를 반환"
   ]
  },
  {
   "cell_type": "code",
   "execution_count": 106,
   "metadata": {},
   "outputs": [
    {
     "data": {
      "text/plain": [
       "False"
      ]
     },
     "execution_count": 106,
     "metadata": {},
     "output_type": "execute_result"
    }
   ],
   "source": [
    "(arr>0).any() # 하나 이상의 값에 True 가 있는지. \n",
    "(arr>0).all() # 모든 값이 True인지."
   ]
  },
  {
   "cell_type": "markdown",
   "metadata": {},
   "source": [
    "### 파일 입출력은 pandas에서 배운다. numpy에서 사용할꺼면 p171 참고"
   ]
  },
  {
   "cell_type": "code",
   "execution_count": 110,
   "metadata": {},
   "outputs": [],
   "source": [
    "a = np.array([[1, 2], [3, 4]])\n",
    "b = np.array([[4, 5], [6, 7]])"
   ]
  },
  {
   "cell_type": "code",
   "execution_count": 111,
   "metadata": {},
   "outputs": [
    {
     "data": {
      "text/plain": [
       "array([[16, 19],\n",
       "       [36, 43]])"
      ]
     },
     "execution_count": 111,
     "metadata": {},
     "output_type": "execute_result"
    }
   ],
   "source": [
    "a.dot(b) # 곱셈 1"
   ]
  },
  {
   "cell_type": "code",
   "execution_count": 108,
   "metadata": {},
   "outputs": [
    {
     "data": {
      "text/plain": [
       "array([[16, 19],\n",
       "       [36, 43]])"
      ]
     },
     "execution_count": 108,
     "metadata": {},
     "output_type": "execute_result"
    }
   ],
   "source": [
    "np.dot(a, b) # 곱셈 2"
   ]
  },
  {
   "cell_type": "code",
   "execution_count": 109,
   "metadata": {},
   "outputs": [
    {
     "data": {
      "text/plain": [
       "array([[16, 19],\n",
       "       [36, 43]])"
      ]
     },
     "execution_count": 109,
     "metadata": {},
     "output_type": "execute_result"
    }
   ],
   "source": [
    "a @ b # 곱셈 3"
   ]
  },
  {
   "cell_type": "code",
   "execution_count": 114,
   "metadata": {},
   "outputs": [
    {
     "data": {
      "text/plain": [
       "array([[-2. ,  1. ],\n",
       "       [ 1.5, -0.5]])"
      ]
     },
     "execution_count": 114,
     "metadata": {},
     "output_type": "execute_result"
    }
   ],
   "source": [
    "np.linalg.inv(a) # 역행렬"
   ]
  },
  {
   "cell_type": "code",
   "execution_count": 117,
   "metadata": {},
   "outputs": [
    {
     "data": {
      "text/plain": [
       "-2.0000000000000004"
      ]
     },
     "execution_count": 117,
     "metadata": {},
     "output_type": "execute_result"
    }
   ],
   "source": [
    "np.linalg.det(a) # 행렬식"
   ]
  },
  {
   "cell_type": "code",
   "execution_count": 119,
   "metadata": {},
   "outputs": [
    {
     "data": {
      "text/plain": [
       "5"
      ]
     },
     "execution_count": 119,
     "metadata": {},
     "output_type": "execute_result"
    }
   ],
   "source": [
    "np.trace(a) # 대각합"
   ]
  },
  {
   "cell_type": "markdown",
   "metadata": {},
   "source": [
    "#### QR분해, 특잇값, 최소제곱해 등 구하려면 p174 참조"
   ]
  },
  {
   "cell_type": "markdown",
   "metadata": {},
   "source": [
    "## 계단 오르내리기"
   ]
  },
  {
   "cell_type": "code",
   "execution_count": 134,
   "metadata": {},
   "outputs": [
    {
     "name": "stdout",
     "output_type": "stream",
     "text": [
      "[0, -1, -2, -1, 0, -1, -2, -1, 0, 1, 0, -1, 0, 1, 2, 1, 2, 1, 0, 1, 0, 1, 2, 3, 2, 1, 2, 1, 2, 3, 2, 1, 2, 1, 2, 3, 2, 1, 0, -1, -2, -1, -2, -3, -4, -3, -4, -3, -2, -3, -2, -1, 0, -1, 0, 1, 2, 1, 0, -1, 0, -1, 0, -1, 0, 1, 0, 1, 2, 3, 4, 3, 4, 3, 4, 5, 4, 3, 2, 1, 0, 1, 2, 1, 2, 1, 2, 3, 4, 5, 4, 3, 4, 5, 6, 5, 6, 7, 8, 7, 8, 9, 8, 7, 8, 9, 8, 9, 10, 11, 12, 11, 10, 11, 10, 9, 8, 9, 8, 7, 6, 5, 4, 3, 4, 3, 4, 3, 4, 3, 2, 3, 2, 1, 2, 1, 0, 1, 0, 1, 0, -1, 0, 1, 0, 1, 2, 1, 0, -1, -2, -3, -2, -1, -2, -3, -4, -3, -2, -3, -4, -5, -4, -5, -6, -7, -6, -7, -8, -7, -8, -9, -8, -7, -8, -9, -8, -9, -10, -9, -10, -11, -10, -11, -12, -13, -14, -13, -14, -13, -12, -11, -12, -13, -12, -11, -10, -9, -10, -11, -10, -11, -12, -13, -14, -13, -12, -11, -12, -11, -12, -11, -12, -13, -14, -15, -16, -15, -14, -13, -14, -15, -16, -15, -14, -15, -14, -13, -12, -11, -10, -11, -10, -11, -12, -13, -12, -11, -10, -9, -10, -11, -10, -11, -10, -11, -10, -11, -12, -11, -12, -11, -12, -11, -10, -9, -8, -7, -8, -7, -8, -9, -8, -7, -8, -9, -8, -9, -8, -9, -10, -9, -10, -11, -12, -11, -12, -11, -10, -11, -10, -11, -12, -11, -10, -11, -10, -9, -8, -9, -8, -7, -6, -5, -4, -5, -6, -7, -8, -7, -6, -5, -6, -5, -4, -3, -4, -3, -4, -5, -6, -5, -4, -3, -2, -1, 0, 1, 0, 1, 2, 3, 4, 3, 2, 3, 4, 3, 2, 1, 2, 3, 4, 5, 4, 5, 6, 7, 6, 7, 6, 7, 6, 7, 8, 7, 6, 5, 4, 3, 4, 3, 2, 3, 4, 3, 4, 5, 6, 7, 8, 9, 8, 7, 8, 7, 8, 9, 8, 7, 8, 7, 6, 7, 6, 5, 6, 7, 8, 9, 10, 9, 8, 7, 8, 9, 8, 9, 8, 7, 6, 7, 8, 7, 8, 9, 10, 11, 12, 11, 10, 11, 10, 9, 8, 9, 10, 11, 12, 13, 12, 11, 12, 13, 14, 13, 14, 15, 16, 15, 14, 13, 12, 13, 12, 11, 12, 11, 12, 13, 12, 13, 14, 13, 14, 13, 14, 15, 14, 15, 16, 17, 16, 17, 18, 19, 20, 21, 22, 21, 22, 23, 24, 23, 24, 23, 24, 25, 26, 25, 24, 25, 24, 25, 24, 25, 24, 25, 26, 27, 28, 27, 28, 29, 30, 29, 30, 29, 28, 27, 26, 27, 26, 27, 28, 27, 26, 27, 28, 27, 26, 25, 24, 25, 24, 23, 22, 21, 20, 19, 18, 17, 18, 17, 16, 17, 18, 19, 20, 21, 20, 21, 20, 19, 20, 19, 20, 21, 22, 23, 24, 23, 22, 21, 20, 21, 20, 19, 20, 19, 20, 19, 20, 19, 20, 21, 20, 19, 18, 17, 16, 17, 18, 19, 20, 19, 18, 17, 16, 17, 16, 15, 16, 17, 16, 17, 16, 15, 16, 15, 14, 13, 12, 11, 10, 9, 8, 7, 6, 7, 6, 7, 6, 7, 8, 9, 8, 7, 8, 7, 6, 7, 6, 5, 6, 7, 8, 9, 10, 9, 10, 11, 12, 13, 14, 13, 12, 11, 10, 11, 10, 9, 10, 11, 10, 11, 10, 9, 10, 9, 8, 7, 6, 5, 6, 7, 8, 7, 6, 7, 8, 7, 6, 5, 4, 3, 4, 3, 2, 3, 4, 5, 4, 5, 6, 5, 4, 3, 2, 1, 2, 1, 0, 1, 2, 3, 4, 5, 4, 3, 4, 3, 4, 5, 4, 5, 4, 5, 4, 5, 4, 3, 4, 3, 4, 3, 2, 1, 0, 1, 2, 1, 2, 1, 2, 1, 2, 3, 2, 1, 0, -1, -2, -1, 0, 1, 2, 1, 0, 1, 0, -1, -2, -1, 0, -1, -2, -1, 0, 1, 0, 1, 2, 3, 4, 3, 4, 5, 4, 5, 4, 5, 4, 3, 4, 3, 2, 3, 2, 1, 0, 1, 2, 1, 0, -1, -2, -1, -2, -3, -2, -3, -2, -3, -4, -5, -4, -3, -2, -1, -2, -1, 0, 1, 2, 3, 2, 3, 4, 3, 4, 3, 4, 5, 4, 5, 4, 3, 2, 3, 4, 3, 4, 5, 6, 7, 8, 9, 8, 9, 8, 7, 8, 9, 10, 9, 8, 7, 8, 9, 10, 11, 12, 13, 14, 13, 14, 15, 16, 15, 16, 15, 14, 13, 14, 15, 14, 15, 16, 15, 16, 15, 14, 13, 14, 15, 14, 15, 14, 13, 14, 13, 12, 13, 12, 11, 10, 11, 12, 11, 12, 11, 12, 11, 10, 9, 8, 7, 6, 5, 4, 5, 6, 7, 6, 5, 4, 3, 4, 3, 2, 3, 2, 3, 2, 1, 0, 1, 2, 1, 2, 3, 4, 3, 4, 3, 4, 3, 2, 3, 4, 3, 2, 3, 2, 3, 4, 3, 2, 3, 2, 3, 4, 5, 6, 7, 6, 5, 4, 3, 2, 3, 2, 1, 0, 1, 2, 3, 4, 3, 4, 5, 4, 5, 6, 5, 6, 7, 6, 7, 6, 7, 6, 5, 6, 5, 4, 3, 4, 3, 4, 5, 6, 5, 6, 7, 8, 9, 10, 11, 12, 13, 12, 13, 14, 13, 12, 13, 14, 15, 14, 15, 16, 17, 18, 19, 18, 19, 20, 21, 20, 19, 18, 19, 18, 17, 16, 17, 18, 17, 18, 19, 18, 19, 20, 19, 20, 19, 20, 21, 22, 23, 24, 25, 26, 27, 26, 25, 26, 27, 28, 29, 30, 29, 30, 31, 30, 29, 28, 27, 26, 25, 26, 27, 28, 29, 30, 31, 30, 31, 32, 33, 34, 35, 34, 33, 32, 31, 30, 31, 30]\n"
     ]
    }
   ],
   "source": [
    "import random\n",
    " \n",
    "position = 0 # 0 에서 시작함\n",
    "walk = [position] # 리스트에 0을 넣어준다\n",
    "steps = 1000 # 천버\n",
    "\n",
    "for i in range(steps):\n",
    "    if random.randint(0, 1) == 1 :\n",
    "        cnt = 1\n",
    "    else : \n",
    "        cnt = -1  \n",
    "    position += cnt\n",
    "    walk.append(position)\n",
    "print(walk)"
   ]
  },
  {
   "cell_type": "code",
   "execution_count": 135,
   "metadata": {},
   "outputs": [
    {
     "data": {
      "text/plain": [
       "[<matplotlib.lines.Line2D at 0x2ab4f173040>]"
      ]
     },
     "execution_count": 135,
     "metadata": {},
     "output_type": "execute_result"
    },
    {
     "data": {
      "image/png": "[encoded data removed]",
      "text/plain": [
       "<Figure size 432x288 with 1 Axes>"
      ]
     },
     "metadata": {
      "needs_background": "light"
     },
     "output_type": "display_data"
    }
   ],
   "source": [
    "import matplotlib.pyplot as plt\n",
    "plt.plot(walk[:100])"
   ]
  }
 ],
 "metadata": {
  "kernelspec": {
   "display_name": "Python 3",
   "language": "python",
   "name": "python3"
  },
  "language_info": {
   "codemirror_mode": {
    "name": "ipython",
    "version": 3
   },
   "file_extension": ".py",
   "mimetype": "text/x-python",
   "name": "python",
   "nbconvert_exporter": "python",
   "pygments_lexer": "ipython3",
   "version": "3.8.5"
  }
 },
 "nbformat": 4,
 "nbformat_minor": 4
}
